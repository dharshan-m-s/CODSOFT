{
 "cells": [
  {
   "cell_type": "code",
   "execution_count": 2,
   "id": "af1f2116",
   "metadata": {},
   "outputs": [],
   "source": [
    "import pandas as pd\n",
    "from sklearn.model_selection import train_test_split\n",
    "from sklearn.linear_model import LinearRegression"
   ]
  },
  {
   "cell_type": "code",
   "execution_count": 26,
   "id": "0740867d",
   "metadata": {},
   "outputs": [
    {
     "name": "stdout",
     "output_type": "stream",
     "text": [
      "Loaded dataframe shape: (15509, 10)\n"
     ]
    },
    {
     "data": {
      "text/html": [
       "<div>\n",
       "<style scoped>\n",
       "    .dataframe tbody tr th:only-of-type {\n",
       "        vertical-align: middle;\n",
       "    }\n",
       "\n",
       "    .dataframe tbody tr th {\n",
       "        vertical-align: top;\n",
       "    }\n",
       "\n",
       "    .dataframe thead th {\n",
       "        text-align: right;\n",
       "    }\n",
       "</style>\n",
       "<table border=\"1\" class=\"dataframe\">\n",
       "  <thead>\n",
       "    <tr style=\"text-align: right;\">\n",
       "      <th></th>\n",
       "      <th>Name</th>\n",
       "      <th>Year</th>\n",
       "      <th>Duration</th>\n",
       "      <th>Genre</th>\n",
       "      <th>Rating</th>\n",
       "      <th>Votes</th>\n",
       "      <th>Director</th>\n",
       "      <th>Actor 1</th>\n",
       "      <th>Actor 2</th>\n",
       "      <th>Actor 3</th>\n",
       "    </tr>\n",
       "  </thead>\n",
       "  <tbody>\n",
       "    <tr>\n",
       "      <th>0</th>\n",
       "      <td></td>\n",
       "      <td>NaN</td>\n",
       "      <td>NaN</td>\n",
       "      <td>Drama</td>\n",
       "      <td>NaN</td>\n",
       "      <td>NaN</td>\n",
       "      <td>J.S. Randhawa</td>\n",
       "      <td>Manmauji</td>\n",
       "      <td>Birbal</td>\n",
       "      <td>Rajendra Bhatia</td>\n",
       "    </tr>\n",
       "    <tr>\n",
       "      <th>1</th>\n",
       "      <td>#Gadhvi (He thought he was Gandhi)</td>\n",
       "      <td>(2019)</td>\n",
       "      <td>109 min</td>\n",
       "      <td>Drama</td>\n",
       "      <td>7.0</td>\n",
       "      <td>8</td>\n",
       "      <td>Gaurav Bakshi</td>\n",
       "      <td>Rasika Dugal</td>\n",
       "      <td>Vivek Ghamande</td>\n",
       "      <td>Arvind Jangid</td>\n",
       "    </tr>\n",
       "    <tr>\n",
       "      <th>2</th>\n",
       "      <td>#Homecoming</td>\n",
       "      <td>(2021)</td>\n",
       "      <td>90 min</td>\n",
       "      <td>Drama, Musical</td>\n",
       "      <td>NaN</td>\n",
       "      <td>NaN</td>\n",
       "      <td>Soumyajit Majumdar</td>\n",
       "      <td>Sayani Gupta</td>\n",
       "      <td>Plabita Borthakur</td>\n",
       "      <td>Roy Angana</td>\n",
       "    </tr>\n",
       "    <tr>\n",
       "      <th>3</th>\n",
       "      <td>#Yaaram</td>\n",
       "      <td>(2019)</td>\n",
       "      <td>110 min</td>\n",
       "      <td>Comedy, Romance</td>\n",
       "      <td>4.4</td>\n",
       "      <td>35</td>\n",
       "      <td>Ovais Khan</td>\n",
       "      <td>Prateik</td>\n",
       "      <td>Ishita Raj</td>\n",
       "      <td>Siddhant Kapoor</td>\n",
       "    </tr>\n",
       "    <tr>\n",
       "      <th>4</th>\n",
       "      <td>...And Once Again</td>\n",
       "      <td>(2010)</td>\n",
       "      <td>105 min</td>\n",
       "      <td>Drama</td>\n",
       "      <td>NaN</td>\n",
       "      <td>NaN</td>\n",
       "      <td>Amol Palekar</td>\n",
       "      <td>Rajat Kapoor</td>\n",
       "      <td>Rituparna Sengupta</td>\n",
       "      <td>Antara Mali</td>\n",
       "    </tr>\n",
       "  </tbody>\n",
       "</table>\n",
       "</div>"
      ],
      "text/plain": [
       "                                 Name    Year Duration            Genre  \\\n",
       "0                                         NaN      NaN            Drama   \n",
       "1  #Gadhvi (He thought he was Gandhi)  (2019)  109 min            Drama   \n",
       "2                         #Homecoming  (2021)   90 min   Drama, Musical   \n",
       "3                             #Yaaram  (2019)  110 min  Comedy, Romance   \n",
       "4                   ...And Once Again  (2010)  105 min            Drama   \n",
       "\n",
       "   Rating Votes            Director       Actor 1             Actor 2  \\\n",
       "0     NaN   NaN       J.S. Randhawa      Manmauji              Birbal   \n",
       "1     7.0     8       Gaurav Bakshi  Rasika Dugal      Vivek Ghamande   \n",
       "2     NaN   NaN  Soumyajit Majumdar  Sayani Gupta   Plabita Borthakur   \n",
       "3     4.4    35          Ovais Khan       Prateik          Ishita Raj   \n",
       "4     NaN   NaN        Amol Palekar  Rajat Kapoor  Rituparna Sengupta   \n",
       "\n",
       "           Actor 3  \n",
       "0  Rajendra Bhatia  \n",
       "1    Arvind Jangid  \n",
       "2       Roy Angana  \n",
       "3  Siddhant Kapoor  \n",
       "4      Antara Mali  "
      ]
     },
     "metadata": {},
     "output_type": "display_data"
    }
   ],
   "source": [
    "# 1️⃣ Load data\n",
    "csv_path = 'IMDb-Movies-India.csv'  # Correct filename\n",
    "df = pd.read_csv(csv_path)\n",
    "df.columns = [c.strip() for c in df.columns]  # strip whitespace\n",
    "\n",
    "print('Loaded dataframe shape:', df.shape)\n",
    "display(df.head())"
   ]
  },
  {
   "cell_type": "code",
   "execution_count": 32,
   "id": "bd99f35a",
   "metadata": {},
   "outputs": [],
   "source": [
    "df['Rating'] = pd.to_numeric(df['Rating'], errors='coerce')\n",
    "df = df.dropna(subset=['Rating'])"
   ]
  },
  {
   "cell_type": "code",
   "execution_count": null,
   "id": "6b2f1d2e",
   "metadata": {},
   "outputs": [],
   "source": [
    "df['Genre'] = df['Genre'].fillna('Unknown').str.split(',').str[0].str.strip()\n",
    "df['Director'] = df['Director'].fillna('Unknown')\n",
    "df['Actor 1'] = df['Actor 1'].fillna('Unknown')"
   ]
  },
  {
   "cell_type": "code",
   "execution_count": null,
   "id": "85633f4a",
   "metadata": {},
   "outputs": [],
   "source": [
    "def top_n_or_other(series, n=50):\n",
    "    top = series.value_counts().nlargest(n).index\n",
    "    return series.where(series.isin(top), 'Other')\n"
   ]
  },
  {
   "cell_type": "code",
   "execution_count": 35,
   "id": "5ca83de7",
   "metadata": {},
   "outputs": [],
   "source": [
    "df['Director'] = top_n_or_other(df['Director'])\n",
    "df['Actor 1'] = top_n_or_other(df['Actor 1'])"
   ]
  },
  {
   "cell_type": "code",
   "execution_count": 45,
   "id": "56cba438",
   "metadata": {},
   "outputs": [
    {
     "name": "stdout",
     "output_type": "stream",
     "text": [
      "       Genre==Action  Genre==Adventure  Genre==Animation  Genre==Biography  \\\n",
      "1              False             False             False             False   \n",
      "3              False             False             False             False   \n",
      "5              False             False             False             False   \n",
      "6              False             False             False             False   \n",
      "8              False             False             False             False   \n",
      "...              ...               ...               ...               ...   \n",
      "15501           True             False             False             False   \n",
      "15503           True             False             False             False   \n",
      "15504           True             False             False             False   \n",
      "15505           True             False             False             False   \n",
      "15508           True             False             False             False   \n",
      "\n",
      "       Genre==Comedy  Genre==Crime  Genre==Documentary  Genre==Drama  \\\n",
      "1              False         False               False          True   \n",
      "3               True         False               False         False   \n",
      "5               True         False               False         False   \n",
      "6              False         False               False          True   \n",
      "8              False         False               False         False   \n",
      "...              ...           ...                 ...           ...   \n",
      "15501          False         False               False         False   \n",
      "15503          False         False               False         False   \n",
      "15504          False         False               False         False   \n",
      "15505          False         False               False         False   \n",
      "15508          False         False               False         False   \n",
      "\n",
      "       Genre==Family  Genre==Fantasy  ...  Actor 1==Shabana Azmi  \\\n",
      "1              False           False  ...                  False   \n",
      "3              False           False  ...                  False   \n",
      "5              False           False  ...                  False   \n",
      "6              False           False  ...                  False   \n",
      "8              False           False  ...                  False   \n",
      "...              ...             ...  ...                    ...   \n",
      "15501          False           False  ...                  False   \n",
      "15503          False           False  ...                  False   \n",
      "15504          False           False  ...                  False   \n",
      "15505          False           False  ...                  False   \n",
      "15508          False           False  ...                  False   \n",
      "\n",
      "       Actor 1==Shah Rukh Khan  Actor 1==Shammi Kapoor  \\\n",
      "1                        False                   False   \n",
      "3                        False                   False   \n",
      "5                        False                   False   \n",
      "6                        False                   False   \n",
      "8                        False                   False   \n",
      "...                        ...                     ...   \n",
      "15501                    False                   False   \n",
      "15503                    False                   False   \n",
      "15504                    False                   False   \n",
      "15505                    False                   False   \n",
      "15508                    False                   False   \n",
      "\n",
      "       Actor 1==Shashi Kapoor  Actor 1==Shatrughan Sinha  Actor 1==Sunil Dutt  \\\n",
      "1                       False                      False                False   \n",
      "3                       False                      False                False   \n",
      "5                       False                      False                False   \n",
      "6                       False                      False                False   \n",
      "8                       False                      False                False   \n",
      "...                       ...                        ...                  ...   \n",
      "15501                   False                      False                False   \n",
      "15503                   False                      False                False   \n",
      "15504                   False                      False                False   \n",
      "15505                   False                      False                False   \n",
      "15508                   False                      False                False   \n",
      "\n",
      "       Actor 1==Sunil Shetty  Actor 1==Sunny Deol  Actor 1==Unknown  \\\n",
      "1                      False                False             False   \n",
      "3                      False                False             False   \n",
      "5                      False                False             False   \n",
      "6                      False                False             False   \n",
      "8                      False                False             False   \n",
      "...                      ...                  ...               ...   \n",
      "15501                  False                False             False   \n",
      "15503                  False                False             False   \n",
      "15504                  False                False             False   \n",
      "15505                  False                False             False   \n",
      "15508                  False                False             False   \n",
      "\n",
      "       Actor 1==Vinod Khanna  \n",
      "1                      False  \n",
      "3                      False  \n",
      "5                      False  \n",
      "6                      False  \n",
      "8                      False  \n",
      "...                      ...  \n",
      "15501                  False  \n",
      "15503                  False  \n",
      "15504                  False  \n",
      "15505                  False  \n",
      "15508                  False  \n",
      "\n",
      "[7919 rows x 123 columns] 1        7.0\n",
      "3        4.4\n",
      "5        4.7\n",
      "6        7.4\n",
      "8        5.6\n",
      "        ... \n",
      "15501    5.3\n",
      "15503    5.8\n",
      "15504    4.6\n",
      "15505    4.5\n",
      "15508    6.2\n",
      "Name: Rating, Length: 7919, dtype: float64\n"
     ]
    }
   ],
   "source": [
    "X = pd.get_dummies(df[['Genre', 'Director', 'Actor 1']], prefix_sep='==')\n",
    "y = df['Rating']\n",
    "print(X,y)\n"
   ]
  },
  {
   "cell_type": "code",
   "execution_count": null,
   "id": "86a8c0a4",
   "metadata": {},
   "outputs": [
    {
     "name": "stdout",
     "output_type": "stream",
     "text": [
      "Model trained successfully! LinearRegression()\n"
     ]
    }
   ],
   "source": [
    "#Training\n",
    "X_train, X_test, y_train, y_test = train_test_split(X, y, test_size=0.2, random_state=42)\n",
    "model = LinearRegression().fit(X_train, y_train)\n",
    "print('Model trained successfully!')"
   ]
  },
  {
   "cell_type": "code",
   "execution_count": null,
   "id": "e7e41094",
   "metadata": {},
   "outputs": [
    {
     "name": "stdout",
     "output_type": "stream",
     "text": [
      "predictions: [5.70060972]\n",
      "Predicted rating: 5.700609716891661\n"
     ]
    }
   ],
   "source": [
    "# Prediction\n",
    "new = pd.DataFrame({'Genre': ['Action'], 'Director': ['John Doe'], 'Actor 1': ['Jane Smith']})\n",
    "new['Director'] = top_n_or_other(new['Director'])\n",
    "new['Actor 1'] = top_n_or_other(new['Actor 1'])\n",
    "new = pd.get_dummies(new, prefix_sep='==').reindex(columns=X.columns, fill_value=0)\n",
    "print(\"predictions:\", model.predict(new))\n",
    "print(\"Predicted rating:\", model.predict(new)[0])"
   ]
  }
 ],
 "metadata": {
  "kernelspec": {
   "display_name": "Python 3",
   "language": "python",
   "name": "python3"
  },
  "language_info": {
   "codemirror_mode": {
    "name": "ipython",
    "version": 3
   },
   "file_extension": ".py",
   "mimetype": "text/x-python",
   "name": "python",
   "nbconvert_exporter": "python",
   "pygments_lexer": "ipython3",
   "version": "3.13.6"
  }
 },
 "nbformat": 4,
 "nbformat_minor": 5
}
